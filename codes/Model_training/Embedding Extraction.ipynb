{
 "cells": [
  {
   "cell_type": "code",
   "execution_count": 11,
   "metadata": {},
   "outputs": [],
   "source": [
    "from tensorflow.keras.models import load_model\n",
    "from tensorflow.keras import Model\n",
    "import numpy as np\n",
    "import json"
   ]
  },
  {
   "cell_type": "code",
   "execution_count": 2,
   "metadata": {},
   "outputs": [],
   "source": [
    "model = load_model('C:\\\\Users\\\\Vignesh\\\\Desktop\\\\E-Book Project\\\\resources\\\\model\\\\Model_1.h5')"
   ]
  },
  {
   "cell_type": "code",
   "execution_count": 3,
   "metadata": {},
   "outputs": [
    {
     "name": "stdout",
     "output_type": "stream",
     "text": [
      "Model: \"model_4\"\n",
      "__________________________________________________________________________________________________\n",
      "Layer (type)                    Output Shape         Param #     Connected to                     \n",
      "==================================================================================================\n",
      "books (InputLayer)              [(None, 1)]          0                                            \n",
      "__________________________________________________________________________________________________\n",
      "Links (InputLayer)              [(None, 1)]          0                                            \n",
      "__________________________________________________________________________________________________\n",
      "book_embedding (Embedding)      (None, 1, 50)        606750      books[0][0]                      \n",
      "__________________________________________________________________________________________________\n",
      "link_embedding (Embedding)      (None, 1, 50)        8487900     Links[0][0]                      \n",
      "__________________________________________________________________________________________________\n",
      "dot (Dot)                       (None, 1, 1)         0           book_embedding[0][0]             \n",
      "                                                                 link_embedding[0][0]             \n",
      "__________________________________________________________________________________________________\n",
      "reshape (Reshape)               (None, 1)            0           dot[0][0]                        \n",
      "__________________________________________________________________________________________________\n",
      "output_layer (Dense)            (None, 1)            2           reshape[0][0]                    \n",
      "==================================================================================================\n",
      "Total params: 9,094,652\n",
      "Trainable params: 9,094,652\n",
      "Non-trainable params: 0\n",
      "__________________________________________________________________________________________________\n"
     ]
    }
   ],
   "source": [
    "model.summary()"
   ]
  },
  {
   "cell_type": "code",
   "execution_count": 4,
   "metadata": {},
   "outputs": [],
   "source": [
    "book_layer = model.get_layer('book_embedding')"
   ]
  },
  {
   "cell_type": "code",
   "execution_count": 5,
   "metadata": {},
   "outputs": [],
   "source": [
    "book_embeddings = book_layer.get_weights()[0]"
   ]
  },
  {
   "cell_type": "code",
   "execution_count": 7,
   "metadata": {},
   "outputs": [
    {
     "data": {
      "text/plain": [
       "array([[-0.0151595 , -0.03291263, -0.10815093, ..., -0.13070813,\n",
       "        -0.07656811,  0.04940894],\n",
       "       [-0.05298412, -0.11723048, -0.0116273 , ...,  0.08832487,\n",
       "        -0.02371714, -0.17221995],\n",
       "       [ 0.05490308,  0.16668499,  0.00084999, ...,  0.01995222,\n",
       "        -0.16132703,  0.14861043],\n",
       "       ...,\n",
       "       [ 0.06795121,  0.04852963,  0.06763521, ...,  0.04099063,\n",
       "         0.08118209,  0.11063212],\n",
       "       [-0.01299005, -0.13907962,  0.08210567, ...,  0.04998609,\n",
       "         0.25850132,  0.15132734],\n",
       "       [ 0.09349526,  0.0170656 ,  0.10965734, ..., -0.12552512,\n",
       "        -0.1107179 , -0.20295493]], dtype=float32)"
      ]
     },
     "execution_count": 7,
     "metadata": {},
     "output_type": "execute_result"
    }
   ],
   "source": [
    "book_embeddings"
   ]
  },
  {
   "cell_type": "code",
   "execution_count": 8,
   "metadata": {},
   "outputs": [
    {
     "data": {
      "text/plain": [
       "array([[0.8440084 ],\n",
       "       [0.85716015],\n",
       "       [0.76723784],\n",
       "       ...,\n",
       "       [0.7436688 ],\n",
       "       [0.75382674],\n",
       "       [0.82159454]], dtype=float32)"
      ]
     },
     "execution_count": 8,
     "metadata": {},
     "output_type": "execute_result"
    }
   ],
   "source": [
    "norm = np.linalg.norm(book_embeddings, axis = 1).reshape(12135, 1)\n",
    "norm"
   ]
  },
  {
   "cell_type": "code",
   "execution_count": 9,
   "metadata": {},
   "outputs": [],
   "source": [
    "norm_book_embeddings = book_embeddings / norm"
   ]
  },
  {
   "cell_type": "code",
   "execution_count": 10,
   "metadata": {},
   "outputs": [
    {
     "data": {
      "text/plain": [
       "0.99999994"
      ]
     },
     "execution_count": 10,
     "metadata": {},
     "output_type": "execute_result"
    }
   ],
   "source": [
    "np.sum(np.square(norm_book_embeddings[0])) "
   ]
  },
  {
   "cell_type": "code",
   "execution_count": 20,
   "metadata": {},
   "outputs": [
    {
     "data": {
      "text/plain": [
       "array([[-0.01796131, -0.03899562, -0.12813964, ..., -0.1548659 ,\n",
       "        -0.09071961,  0.05854081],\n",
       "       [-0.06181356, -0.13676614, -0.01356491, ...,  0.10304361,\n",
       "        -0.02766944, -0.20091921],\n",
       "       [ 0.0715594 ,  0.21725334,  0.00110786, ...,  0.02600526,\n",
       "        -0.21026991,  0.19369538],\n",
       "       ...,\n",
       "       [ 0.09137294,  0.06525704,  0.09094802, ...,  0.05511947,\n",
       "         0.10916431,  0.14876531],\n",
       "       [-0.01723214, -0.18449812,  0.1089185 , ...,  0.06630979,\n",
       "         0.34291875,  0.20074552],\n",
       "       [ 0.11379733,  0.02077132,  0.13346893, ..., -0.15278232,\n",
       "        -0.13475978, -0.24702565]], dtype=float32)"
      ]
     },
     "execution_count": 20,
     "metadata": {},
     "output_type": "execute_result"
    }
   ],
   "source": [
    "norm_book_embeddings"
   ]
  },
  {
   "cell_type": "code",
   "execution_count": 21,
   "metadata": {},
   "outputs": [],
   "source": [
    "list_embed = norm_book_embeddings.tolist()"
   ]
  },
  {
   "cell_type": "code",
   "execution_count": 24,
   "metadata": {},
   "outputs": [
    {
     "data": {
      "text/plain": [
       "13055170"
      ]
     },
     "execution_count": 24,
     "metadata": {},
     "output_type": "execute_result"
    }
   ],
   "source": [
    "file = open('C:\\\\Users\\\\Vignesh\\\\Desktop\\\\E-Book Project\\\\resources\\\\embeddings\\\\book_embeddings.ndjson', 'w')\n",
    "file.write(json.dumps(list_embed))"
   ]
  }
 ],
 "metadata": {
  "kernelspec": {
   "display_name": "Python 3",
   "language": "python",
   "name": "python3"
  },
  "language_info": {
   "codemirror_mode": {
    "name": "ipython",
    "version": 3
   },
   "file_extension": ".py",
   "mimetype": "text/x-python",
   "name": "python",
   "nbconvert_exporter": "python",
   "pygments_lexer": "ipython3",
   "version": "3.7.7"
  }
 },
 "nbformat": 4,
 "nbformat_minor": 4
}
