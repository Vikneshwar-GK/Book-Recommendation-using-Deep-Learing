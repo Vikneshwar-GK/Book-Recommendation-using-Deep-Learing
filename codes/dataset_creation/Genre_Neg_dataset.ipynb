{
 "cells": [
  {
   "cell_type": "code",
   "execution_count": null,
   "metadata": {},
   "outputs": [],
   "source": [
    "import pandas as pd\n",
    "import json\n",
    "import random"
   ]
  },
  {
   "cell_type": "code",
   "execution_count": null,
   "metadata": {},
   "outputs": [],
   "source": [
    "data = pd.read_csv('C:\\\\Users\\\\Vignesh\\\\Desktop\\\\E-Book Project\\\\resources\\\\csv\\\\dataFrame_wLinks.csv')"
   ]
  },
  {
   "cell_type": "code",
   "execution_count": null,
   "metadata": {},
   "outputs": [],
   "source": [
    "data.head()"
   ]
  },
  {
   "cell_type": "code",
   "execution_count": null,
   "metadata": {},
   "outputs": [],
   "source": [
    "data.drop(data.columns[data.columns.str.contains('unnamed',case = False)],axis = 1, inplace = True)"
   ]
  },
  {
   "cell_type": "code",
   "execution_count": null,
   "metadata": {},
   "outputs": [],
   "source": [
    "data.update('\"' + data[['Genre', 'Links']].astype(str) + '\"')\n",
    "data['Links']=data['Links'].astype('str')\n",
    "data['Links'] = data['Links'].apply(lambda x: x[1:-1].split(','))\n",
    "data['Genre']=data['Genre'].astype('str')\n",
    "data['Genre'] = data['Genre'].apply(lambda x: x[1:-1].split(','))"
   ]
  },
  {
   "cell_type": "code",
   "execution_count": null,
   "metadata": {},
   "outputs": [],
   "source": [
    "file = open('C:\\\\Users\\\\Vignesh\\\\Desktop\\\\E-Book Project\\\\resources\\\\json\\\\genre_index')\n",
    "genre_index = json.loads(file.read())"
   ]
  },
  {
   "cell_type": "code",
   "execution_count": null,
   "metadata": {},
   "outputs": [],
   "source": [
    "genre_index"
   ]
  },
  {
   "cell_type": "code",
   "execution_count": null,
   "metadata": {},
   "outputs": [],
   "source": [
    "unique_genre = list(genre_index.keys())\n",
    "len(unique_genre)"
   ]
  },
  {
   "cell_type": "code",
   "execution_count": null,
   "metadata": {},
   "outputs": [],
   "source": [
    "genre_freq = {}\n",
    "for row in data.itertuples():\n",
    "    for link in row.Genre:\n",
    "        genre_freq[link] = genre_freq.get(link, 0)+1\n",
    "    "
   ]
  },
  {
   "cell_type": "code",
   "execution_count": null,
   "metadata": {},
   "outputs": [],
   "source": [
    "genre_freq"
   ]
  },
  {
   "cell_type": "code",
   "execution_count": null,
   "metadata": {},
   "outputs": [],
   "source": [
    "neg_genre = []\n",
    "for row in data.itertuples():\n",
    "    print(row.Index,\" : \", row.TitAut)\n",
    "    temp_genre = [genre.lower() for genre in row.Genre]\n",
    "    count = 0\n",
    "    while(count < (len(temp_genre)*2)):\n",
    "        n_g = random.choice(unique_genre)\n",
    "        if n_g not in temp_genre and [row.TitAut, n_g, 0] not in neg_genre:\n",
    "            neg_genre.append([row.TitAut, n_g, 0])\n",
    "            count+=1\n",
    "    print(\"Completed\")\n",
    "    print()   \n",
    "    "
   ]
  },
  {
   "cell_type": "code",
   "execution_count": null,
   "metadata": {},
   "outputs": [],
   "source": [
    "neg_genre"
   ]
  },
  {
   "cell_type": "code",
   "execution_count": null,
   "metadata": {},
   "outputs": [],
   "source": [
    "ng = pd.DataFrame(neg_genre, columns = ['TitAut', 'Genre', 'Output'])"
   ]
  },
  {
   "cell_type": "code",
   "execution_count": null,
   "metadata": {},
   "outputs": [],
   "source": [
    "ng"
   ]
  },
  {
   "cell_type": "code",
   "execution_count": null,
   "metadata": {},
   "outputs": [],
   "source": [
    "ng.to_csv('C:\\\\Users\\\\Vignesh\\\\Desktop\\\\E-Book Project\\\\resources\\\\csv\\\\Genre\\\\neg_genre.csv', index = False)"
   ]
  },
  {
   "cell_type": "code",
   "execution_count": null,
   "metadata": {},
   "outputs": [],
   "source": []
  },
  {
   "cell_type": "code",
   "execution_count": null,
   "metadata": {},
   "outputs": [],
   "source": []
  },
  {
   "cell_type": "code",
   "execution_count": null,
   "metadata": {},
   "outputs": [],
   "source": []
  },
  {
   "cell_type": "code",
   "execution_count": null,
   "metadata": {},
   "outputs": [],
   "source": []
  }
 ],
 "metadata": {
  "kernelspec": {
   "display_name": "Python 3",
   "language": "python",
   "name": "python3"
  },
  "language_info": {
   "codemirror_mode": {
    "name": "ipython",
    "version": 3
   },
   "file_extension": ".py",
   "mimetype": "text/x-python",
   "name": "python",
   "nbconvert_exporter": "python",
   "pygments_lexer": "ipython3",
   "version": "3.7.7"
  }
 },
 "nbformat": 4,
 "nbformat_minor": 4
}
